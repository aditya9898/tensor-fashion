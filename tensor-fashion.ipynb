{
 "cells": [
  {
   "cell_type": "code",
   "execution_count": 35,
   "metadata": {},
   "outputs": [],
   "source": [
    "import tensorflow as tf\n",
    "import pandas as pd\n",
    "import matplotlib.pyplot as plt\n",
    "import numpy as np\n",
    "import sklearn.datasets\n",
    "from sklearn.model_selection import train_test_split"
   ]
  },
  {
   "cell_type": "code",
   "execution_count": 36,
   "metadata": {},
   "outputs": [],
   "source": [
    "def create_placeholders(n_x,n_y):\n",
    "    X=tf.placeholder(tf.float32,shape=[n_x,None],name='X')\n",
    "    Y=tf.placeholder(tf.float32,shape=[n_y,None],name='Y')\n",
    "    return X,Y\n"
   ]
  },
  {
   "cell_type": "code",
   "execution_count": 37,
   "metadata": {},
   "outputs": [],
   "source": [
    "def initialize_parameters(ld):\n",
    "    w1=tf.get_variable('w1',[ld[1],ld[0]],initializer=tf.contrib.layers.xavier_initializer(seed=1))\n",
    "    b1=tf.get_variable('b1',[ld[1],1],initializer=tf.zeros_initializer())\n",
    "    w2=tf.get_variable('w2',[ld[2],ld[1]],initializer=tf.contrib.layers.xavier_initializer(seed=1))\n",
    "    b2=tf.get_variable('b2',[ld[2],1],initializer=tf.zeros_initializer())\n",
    "    w3=tf.get_variable('w3',[ld[3],ld[2]],initializer=tf.contrib.layers.xavier_initializer(seed=1))\n",
    "    b3=tf.get_variable('b3',[ld[3],1],initializer=tf.zeros_initializer())\n",
    "    w4=tf.get_variable('w4',[ld[4],ld[3]],initializer=tf.contrib.layers.xavier_initializer(seed=1))\n",
    "    b4=tf.get_variable('b4',[ld[4],1],initializer=tf.zeros_initializer())\n",
    "    parameters={'w1':w1,'b1':b1,'w2':w2,'b2':b2,'w3':w3,'b3':b3,'w4':w4,'b4':b4}\n",
    "    return parameters\n",
    "    "
   ]
  },
  {
   "cell_type": "code",
   "execution_count": 38,
   "metadata": {},
   "outputs": [],
   "source": [
    "def forward_propagation(X,parameters):\n",
    "    w1=parameters['w1']\n",
    "    b1=parameters['b1']\n",
    "    w2=parameters['w2']\n",
    "    b2=parameters['b2']\n",
    "    w3=parameters['w3']\n",
    "    b3=parameters['b3']\n",
    "    w4=parameters['w4']\n",
    "    b4=parameters['b4']\n",
    "    z1=tf.add(tf.matmul(w1,X),b1)\n",
    "    a1=tf.nn.relu(z1)\n",
    "    z2=tf.add(tf.matmul(w2,a1),b2)\n",
    "    a2=tf.nn.relu(z2)\n",
    "    z3=tf.add(tf.matmul(w3,a2),b3)\n",
    "    a3=tf.nn.relu(z3)\n",
    "    z4=tf.add(tf.matmul(w4,a3),b4)\n",
    "    return z4"
   ]
  },
  {
   "cell_type": "code",
   "execution_count": 39,
   "metadata": {},
   "outputs": [],
   "source": [
    "def compute_cost(z3,Y):\n",
    "    logits=tf.transpose(z3)\n",
    "    labels=tf.transpose(Y)\n",
    "    cost=tf.reduce_mean(tf.nn.softmax_cross_entropy_with_logits(logits=logits,labels=labels))\n",
    "    return cost"
   ]
  },
  {
   "cell_type": "code",
   "execution_count": 40,
   "metadata": {},
   "outputs": [],
   "source": [
    "def convert_to_one_hot(y,c):\n",
    "    one_hot_y=tf.one_hot(y,c,axis=0)\n",
    "    return one_hot_y"
   ]
  },
  {
   "cell_type": "code",
   "execution_count": 41,
   "metadata": {},
   "outputs": [],
   "source": [
    "def random_mini_batches(x,y,mini_batch_size=32,seed=1):\n",
    "    m=x.shape[1]\n",
    "    num_total_mini_batches=m//mini_batch_size\n",
    "    minibatches=[]\n",
    "    perm=list(np.random.permutation(m))\n",
    "    x=x[:,perm]\n",
    "    y=y[:,perm]\n",
    "    for i in range (num_total_mini_batches):\n",
    "        minibatch_x=x[:,i*mini_batch_size:(i+1)*mini_batch_size]\n",
    "        minibatch_y=y[:,i*mini_batch_size:(i+1)*mini_batch_size]\n",
    "        minibatch=(minibatch_x,minibatch_y)\n",
    "        minibatches.append(minibatch)\n",
    "    if m%mini_batch_size!=0:\n",
    "        minibatch_x=x[:,mini_batch_size*num_total_mini_batches:m]\n",
    "        minibatch_y=y[:,mini_batch_size*num_total_mini_batches:m]\n",
    "        minibatch=(minibatch_x,minibatch_y)\n",
    "        minibatches.append(minibatch)\n",
    "    return minibatches"
   ]
  },
  {
   "cell_type": "code",
   "execution_count": 42,
   "metadata": {},
   "outputs": [],
   "source": [
    "def model(xtr,ytr,ld,num_epochs=50,mini_batch_size=64,learning_rate=0.001):\n",
    "    n_x,m=xtr.shape\n",
    "    n_y,_=ytr.shape\n",
    "    tf.reset_default_graph()\n",
    "    X,Y=create_placeholders(n_x,n_y)\n",
    "    parameters=initialize_parameters(ld)\n",
    "    z3=forward_propagation(X,parameters)\n",
    "    cost=compute_cost(z3,Y)\n",
    "    optimizer=tf.train.AdamOptimizer(learning_rate=learning_rate).minimize(cost)\n",
    "    init=tf.global_variables_initializer()\n",
    "    costs=[]\n",
    "    seed=1\n",
    "    with tf.Session() as sess:\n",
    "        sess.run(init)\n",
    "        for i in range(num_epochs):\n",
    "            epoch_cost=0\n",
    "            seed+=1\n",
    "            num_total_mini_batches=m//mini_batch_size\n",
    "            minibatches=random_mini_batches(xtr,ytr,mini_batch_size,seed)\n",
    "            for minibatch in minibatches:\n",
    "                (minibatch_x,minibatch_y)=minibatch\n",
    "                _,c=sess.run([optimizer,cost],feed_dict={X:minibatch_x,Y:minibatch_y})\n",
    "                epoch_cost+=(c/num_total_mini_batches)\n",
    "            if i%10==0:\n",
    "                print('epoch cost after '+str(i)+' epoches:'+str(epoch_cost))\n",
    "            if i%10==0:\n",
    "                costs.append(epoch_cost)\n",
    "        plt.plot(np.squeeze(costs))\n",
    "        plt.ylabel('cost')\n",
    "        plt.xlabel('epochs in 10s')\n",
    "        plt.title('learning rate='+str(learning_rate))\n",
    "        parameters=sess.run(parameters)\n",
    "    return parameters\n",
    "            \n",
    "            "
   ]
  },
  {
   "cell_type": "code",
   "execution_count": 43,
   "metadata": {},
   "outputs": [],
   "source": [
    "def fp(x,parameters):\n",
    "    w1=parameters['w1']\n",
    "    b1=parameters['b1']\n",
    "    w2=parameters['w2']\n",
    "    b2=parameters['b2']\n",
    "    w3=parameters['w3']\n",
    "    b3=parameters['b3']\n",
    "    w4=parameters['w4']\n",
    "    b4=parameters['b4']\n",
    "    z1=np.add(np.matmul(w1,x),b1)\n",
    "    a1=np.maximum(z1,0)\n",
    "    z2=np.add(np.matmul(w2,a1),b2)\n",
    "    a2=np.maximum(z2,0)\n",
    "    z3=np.add(np.matmul(w3,a2),b3)\n",
    "    a3=np.maximum(z3,0)\n",
    "    z4=np.add(np.matmul(w4,a3),b4)\n",
    "    return z4"
   ]
  },
  {
   "cell_type": "code",
   "execution_count": 44,
   "metadata": {},
   "outputs": [],
   "source": [
    "def find_accuracy(z4,labels):\n",
    "    pred=(np.argmax(z4,axis=0))\n",
    "    acc=np.mean(pred==labels)\n",
    "    print('accuracy='+str(acc))\n",
    "    return acc"
   ]
  },
  {
   "cell_type": "code",
   "execution_count": 45,
   "metadata": {},
   "outputs": [
    {
     "name": "stdout",
     "output_type": "stream",
     "text": [
      "(60000, 785)\n",
      "x_train(784, 60000)\n",
      "y_train(1, 60000)\n",
      "y_train_one_hot(10, 60000)\n"
     ]
    }
   ],
   "source": [
    "df=pd.read_csv('./datasets/fashion-mnist_train.csv')\n",
    "df1=df.as_matrix()\n",
    "print(df1.shape)\n",
    "ytr=df1[:,0].T.reshape(1,60000)\n",
    "xtr=df1[:,1:785].T\n",
    "print('x_train'+str(xtr.shape))\n",
    "print('y_train'+str(ytr.shape))\n",
    "ytroh=convert_to_one_hot(ytr,10)\n",
    "ytroh=ytroh[:,0,:]\n",
    "print('y_train_one_hot'+str(ytroh.shape))"
   ]
  },
  {
   "cell_type": "code",
   "execution_count": 46,
   "metadata": {},
   "outputs": [
    {
     "name": "stdout",
     "output_type": "stream",
     "text": [
      "(10000, 785)\n",
      "xts shape:(784, 10000)\n",
      "yts shape:(1, 10000)\n"
     ]
    }
   ],
   "source": [
    "dftest=pd.read_csv('./datasets/fashion-mnist_test.csv')\n",
    "dftest1=dftest.as_matrix()\n",
    "print(dftest1.shape)\n",
    "yts=dftest1[:,0].T.reshape(1,10000)\n",
    "xts=dftest1[:,1:785].T\n",
    "print('xts shape:'+str(xts.shape))\n",
    "print('yts shape:'+str(yts.shape))"
   ]
  },
  {
   "cell_type": "code",
   "execution_count": 83,
   "metadata": {},
   "outputs": [],
   "source": [
    "classes=['t-shirt','trouser','pullover','dress','coat','sandal','shirt','sneaker','bag','ankle-boot']"
   ]
  },
  {
   "cell_type": "code",
   "execution_count": 81,
   "metadata": {},
   "outputs": [
    {
     "data": {
      "text/plain": [
       "<matplotlib.image.AxesImage at 0x1b0e74a15f8>"
      ]
     },
     "execution_count": 81,
     "metadata": {},
     "output_type": "execute_result"
    },
    {
     "data": {
      "image/png": "[encoded data removed]",
      "text/plain": [
       "<Figure size 432x288 with 1 Axes>"
      ]
     },
     "metadata": {},
     "output_type": "display_data"
    }
   ],
   "source": [
    "n=np.random.randint(0,60000)\n",
    "image=xtr[:,n].reshape(28,28)\n",
    "plt.imshow(image,cmap='gray')\n"
   ]
  },
  {
   "cell_type": "code",
   "execution_count": 47,
   "metadata": {},
   "outputs": [
    {
     "name": "stdout",
     "output_type": "stream",
     "text": [
      "epoch cost after 0 epoches:3.7000317793009536\n",
      "epoch cost after 10 epoches:0.3833904221510814\n",
      "epoch cost after 20 epoches:0.2607064566544182\n",
      "epoch cost after 30 epoches:0.20690364601327108\n",
      "epoch cost after 40 epoches:0.1685074568828498\n",
      "epoch cost after 50 epoches:0.13740430181804278\n",
      "epoch cost after 60 epoches:0.11472690143009182\n",
      "epoch cost after 70 epoches:0.09730006940265269\n",
      "epoch cost after 80 epoches:0.08396527455824458\n",
      "epoch cost after 90 epoches:0.07545148138863325\n"
     ]
    },
    {
     "data": {
      "image/png": "[encoded data removed]",
      "text/plain": [
       "<Figure size 432x288 with 1 Axes>"
      ]
     },
     "metadata": {},
     "output_type": "display_data"
    }
   ],
   "source": [
    "ld=[784,200,100,30,10]\n",
    "with tf.Session() as sess:\n",
    "    ytroh=ytroh.eval(session=sess)\n",
    "parameters=model(xtr,ytroh,ld,100,64,0.0001)"
   ]
  },
  {
   "cell_type": "code",
   "execution_count": 48,
   "metadata": {},
   "outputs": [
    {
     "name": "stdout",
     "output_type": "stream",
     "text": [
      "accuracy=0.9783833333333334\n",
      "the train accuracy is 0.9783833333333334\n"
     ]
    }
   ],
   "source": [
    "z4=fp(xtr,parameters)\n",
    "acc=find_accuracy(z4,ytr)\n",
    "print('the train accuracy is '+str(acc))\n"
   ]
  },
  {
   "cell_type": "code",
   "execution_count": 49,
   "metadata": {},
   "outputs": [
    {
     "name": "stdout",
     "output_type": "stream",
     "text": [
      "accuracy=0.8886\n",
      "the test accuracy is 0.8886\n"
     ]
    }
   ],
   "source": [
    "z4=fp(xts,parameters)\n",
    "acc=find_accuracy(z4,yts)\n",
    "print('the test accuracy is '+str(acc))"
   ]
  },
  {
   "cell_type": "code",
   "execution_count": 128,
   "metadata": {},
   "outputs": [
    {
     "name": "stdout",
     "output_type": "stream",
     "text": [
      "image number:60\n",
      "predicted class: coat\n"
     ]
    },
    {
     "data": {
      "image/png": "[encoded data removed]",
      "text/plain": [
       "<Figure size 432x288 with 1 Axes>"
      ]
     },
     "metadata": {},
     "output_type": "display_data"
    }
   ],
   "source": [
    "random_test=np.random.randint(0,10000)\n",
    "print('image number:'+str(random_test))\n",
    "image=xts[:,random_test].reshape(28,28)\n",
    "plt.imshow(image,cmap='gray')\n",
    "x=xts[:,random_test].reshape(784,1)\n",
    "z3_test=fp(x,parameters)\n",
    "predicted_class=classes[np.argmax(z3_test)]\n",
    "print('predicted class: '+str(predicted_class))"
   ]
  }
 ],
 "metadata": {
  "kernelspec": {
   "display_name": "Python 3",
   "language": "python",
   "name": "python3"
  },
  "language_info": {
   "codemirror_mode": {
    "name": "ipython",
    "version": 3
   },
   "file_extension": ".py",
   "mimetype": "text/x-python",
   "name": "python",
   "nbconvert_exporter": "python",
   "pygments_lexer": "ipython3",
   "version": "3.6.4"
  }
 },
 "nbformat": 4,
 "nbformat_minor": 2
}
